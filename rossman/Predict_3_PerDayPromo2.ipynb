{
 "cells": [
  {
   "cell_type": "markdown",
   "metadata": {},
   "source": [
    "## Note: This notebook tries to calculate per-day Promo2 for each store. ##"
   ]
  },
  {
   "cell_type": "code",
   "execution_count": 196,
   "metadata": {
    "collapsed": false
   },
   "outputs": [],
   "source": [
    "# Imports\n",
    "\n",
    "# pandas\n",
    "import pandas as pd\n",
    "from pandas import Series,DataFrame\n",
    "import random\n",
    "import operator\n",
    "import datetime\n",
    "import time\n",
    "\n",
    "# numpy, matplotlib, seaborn\n",
    "import numpy as np\n",
    "import matplotlib.pyplot as plt\n",
    "import matplotlib.cm as cm\n",
    "import seaborn as sns\n",
    "sns.set_style('whitegrid')\n",
    "%matplotlib inline\n",
    "\n",
    "from sklearn import datasets, linear_model, cross_validation, grid_search, svm, ensemble, kernel_ridge"
   ]
  },
  {
   "cell_type": "code",
   "execution_count": 2,
   "metadata": {
    "collapsed": true
   },
   "outputs": [],
   "source": [
    "np.random.seed(10)\n",
    "random.seed(10)"
   ]
  },
  {
   "cell_type": "code",
   "execution_count": 3,
   "metadata": {
    "collapsed": false
   },
   "outputs": [],
   "source": [
    "def rmspe(y, yhat):\n",
    "    y = y.astype('float')\n",
    "    yhat = yhat.astype('float')\n",
    "    inner = ((y-yhat)/y)**2\n",
    "    return (np.mean(inner))**0.5"
   ]
  },
  {
   "cell_type": "code",
   "execution_count": 132,
   "metadata": {
    "collapsed": false
   },
   "outputs": [],
   "source": [
    "# get rossmann, store, & test csv files as a DataFrame\n",
    "train_df  = pd.read_csv(\"train.csv\", parse_dates = ['Date']) \n",
    "store_df     = pd.read_csv(\"store.csv\")\n",
    "test_df      = pd.read_csv(\"test.csv\", parse_dates = ['Date'])"
   ]
  },
  {
   "cell_type": "markdown",
   "metadata": {},
   "source": [
    "### Data Preprocessing ###"
   ]
  },
  {
   "cell_type": "code",
   "execution_count": 133,
   "metadata": {
    "collapsed": false
   },
   "outputs": [],
   "source": [
    "def getPromo2FirstDate(row):\n",
    "    if row['Promo2'] == 1:\n",
    "        startDate = np.datetime64(\"{0}-{1:02d}-{2:02d}\".format(int(row['Promo2SinceYear']), 1, 1)) + \\\n",
    "            np.timedelta64(int(row['Promo2SinceWeek']) - 1, 'W')\n",
    "    else:\n",
    "        startDate = np.NaN\n",
    "        \n",
    "    return startDate\n",
    "\n",
    "store_df['Promo2StartDate'] = store_df.apply(lambda row: getPromo2FirstDate(row),axis=1)"
   ]
  },
  {
   "cell_type": "code",
   "execution_count": 134,
   "metadata": {
    "collapsed": true
   },
   "outputs": [],
   "source": [
    "def calStorePromo2Bitmask(row):\n",
    "    val = 0\n",
    "    \n",
    "    if row['Promo2'] != 1:\n",
    "        return 0\n",
    "    \n",
    "    promoInterval = row['PromoInterval']    \n",
    "    for i in range(1,13):\n",
    "        month = datetime.date(2008, i, 1).strftime('%b')\n",
    "        # 'Promo2' is 0 or 1.  We use this and the \"month in str(x)\" to check if the store runs Promo2 in that month\n",
    "        if month in promoInterval:\n",
    "            val += 2**i\n",
    "    \n",
    "    return val\n",
    "\n",
    "store_df['Promo2MonthBitmask'] = store_df.apply(lambda row: calStorePromo2Bitmask(row), axis=1 )\n"
   ]
  },
  {
   "cell_type": "code",
   "execution_count": 135,
   "metadata": {
    "collapsed": true
   },
   "outputs": [],
   "source": [
    "# Got a warning about column 7 during import.\n",
    "# Fix it by change all 0 to '0'\n",
    "train_df.loc[train_df['StateHoliday'] == 0, 'StateHoliday'] = '0'\n",
    "\n",
    "# Keep only records where the store is open\n",
    "train_df = train_df[train_df['Open'] == 1]\n",
    "\n",
    "# Keep only records with non-zero sales\n",
    "train_df = train_df[train_df['Sales'] > 0]"
   ]
  },
  {
   "cell_type": "code",
   "execution_count": 223,
   "metadata": {
    "collapsed": false
   },
   "outputs": [],
   "source": [
    "def isPromo2(row):\n",
    "    monthDict={1:'Jan', 2:'Feb', 3:'Mar', 4:'Apr', 5:'May', 6:'Jun', 7:'Jul', 8:'Aug', 9:'Sep', 10:'Oct', 11:'Nov', 12:'Dec'}\n",
    "\n",
    "    if row['Promo2'] == 0 or row['Promo2'] is None:\n",
    "        return 0\n",
    "    \n",
    "    if row['Date'] < row['Promo2StartDate']:\n",
    "        return 0\n",
    "    \n",
    "    if monthDict[row['Month']] in row['PromoInterval']:\n",
    "        return 1\n",
    "\n",
    "def convertColToCategory(data, colName, cat):\n",
    "    data.loc[:, colName] = data.loc[:, colName].astype('category', categories=cat)\n",
    "\n",
    "\n",
    "def transformData(inputData, isTrainData = True):\n",
    "\n",
    "    data = inputData.copy()\n",
    "\n",
    "    # Add month and year columns\n",
    "    data.loc[:, ('Month')] = data['Date'].dt.month\n",
    "    data.loc[:, ('Year')] = data['Date'].dt.year\n",
    "    \n",
    "    data['IsPromo2Day'] = np.bitwise_and(data['Promo2MonthBitmask'], 2 ** data['Month']) != 0\n",
    "\n",
    "    # For the dates which is before Promo2StartDate, set IsPromo2Day to zero.\n",
    "    data['IsPromo2Day'] = np.logical_and(data['IsPromo2Day'], data['Date'] >= data['Promo2StartDate'])\n",
    "    data['IsPromo2Day'] = data['IsPromo2Day'].astype('int')\n",
    "    \n",
    "    # Convert categorical columns to category type\n",
    "    # Need to specify the categories explicitly because in the test dataframe, not all categories\n",
    "    # (e.g. January) is there.\n",
    "    convertColToCategory(data, 'DayOfWeek', range(1, 8))\n",
    "    convertColToCategory(data, 'Month', range(1, 13))\n",
    "    convertColToCategory(data, 'Year', range(2013, 2016))\n",
    "    convertColToCategory(data, 'Promo', range(2))\n",
    "    convertColToCategory(data, 'IsPromo2Day', range(2))\n",
    "    \n",
    "    # The columns to keep for training\n",
    "    cols_to_keep = [u'Store', u'Date', u'SchoolHoliday',\n",
    "       u'IsPromo2Day', u'DayOfWeek',\n",
    "       u'Promo', u'StateHoliday', u'StoreType', u'Assortment', \n",
    "       u'Month', u'Year']\n",
    "    \n",
    "    if isTrainData:\n",
    "        cols_to_keep.append(u'Sales')\n",
    "    \n",
    "    if not isTrainData:\n",
    "        cols_to_keep.append('Id')\n",
    "        cols_to_keep.append('Open') # During prediction, closed store will automatically get 0 sales\n",
    "    \n",
    "    data = data[cols_to_keep]\n",
    "    \n",
    "    return pd.get_dummies(data)"
   ]
  },
  {
   "cell_type": "code",
   "execution_count": 224,
   "metadata": {
    "collapsed": false
   },
   "outputs": [],
   "source": [
    "train_full_df = pd.merge(train_df, store_df, on='Store')\n",
    "train_data = transformData(train_full_df)"
   ]
  },
  {
   "cell_type": "code",
   "execution_count": 225,
   "metadata": {
    "collapsed": false
   },
   "outputs": [],
   "source": [
    "test_full_df = pd.merge(test_df, store_df, on='Store')\n",
    "test_data = transformData(test_full_df, isTrainData = False)\n",
    "\n",
    "# Sort training data by date\n",
    "train_data.set_index('Date', inplace=True)\n",
    "train_data.sort_index(inplace=True)"
   ]
  },
  {
   "cell_type": "code",
   "execution_count": 235,
   "metadata": {
    "collapsed": false
   },
   "outputs": [],
   "source": [
    "def getXCols():\n",
    "    # List the columns we need for training\n",
    "    getCols = lambda prefix: [col for col in train_data.columns if prefix in col]\n",
    "    \n",
    "    cols = []\n",
    "    #cols.extend(getCols('IsPromo2Day_'))\n",
    "    cols.extend(getCols('DayOfWeek_'))\n",
    "    cols.extend(getCols('Promo_'))\n",
    "    cols.extend(getCols('Month_'))\n",
    "    cols.extend(getCols('Year_'))\n",
    "    \n",
    "    return cols\n",
    "    \n",
    "x_cols = getXCols()\n",
    "\n",
    "def trainModels(n_cutoff_months, algo, store=None, **kwargs):\n",
    "    all_y = []\n",
    "    all_yhat = []\n",
    "    all_rmspe = {}\n",
    "    models = {}\n",
    "    \n",
    "    startTime = time.time()\n",
    "    \n",
    "    if store is not None:\n",
    "        data = train_data[train_data['Store'] == store]\n",
    "    else:\n",
    "        data = train_data\n",
    "\n",
    "    test_cutoff_date = data.index.max() - pd.DateOffset(months = n_cutoff_months)\n",
    "\n",
    "    train_set = data[data.index <= test_cutoff_date]\n",
    "    dev_set = data[data.index > test_cutoff_date]\n",
    "    print \"train_set size:\", len(train_set)\n",
    "    print \"dev_set size:\", len(dev_set)\n",
    "\n",
    "    \n",
    "    train_set_grouped = train_set.groupby('Store')\n",
    "    dev_set_grouped = dev_set.groupby('Store')\n",
    "    cols = None\n",
    "    \n",
    "    for group in train_set_grouped.groups.keys():        \n",
    "        train_X = train_set_grouped.get_group(group)[x_cols]\n",
    "        train_y = np.log(train_set_grouped.get_group(group)['Sales'])\n",
    "\n",
    "        dev_X = dev_set_grouped.get_group(group)[x_cols]\n",
    "        dev_y = np.log(dev_set_grouped.get_group(group)['Sales'])\n",
    "\n",
    "        # One model per store\n",
    "        if algo == 'lr':\n",
    "            model = linear_model.LinearRegression(**kwargs)\n",
    "        elif algo == 'ridge':\n",
    "            model = linear_model.Ridge(**kwargs)\n",
    "        elif algo == 'svr':\n",
    "            model = svm.SVR(**kwargs)\n",
    "        elif algo == 'nsvr':\n",
    "            model = svm.NuSVR(**kwargs)\n",
    "        elif algo == 'rfr':\n",
    "            model = ensemble.RandomForestRegressor(**kwargs)\n",
    "        elif algo == 'kr':\n",
    "            model = kernel_ridge.KernelRidge(**kwargs)\n",
    "            \n",
    "        model.fit(X=train_X, y=train_y)\n",
    "        models[group] = model\n",
    "        yhat = model.predict(dev_X)\n",
    "\n",
    "        all_y.extend(dev_y.tolist())\n",
    "        all_yhat.extend(yhat.tolist())\n",
    "        \n",
    "        all_rmspe[group] = rmspe(np.exp(np.array(dev_y.tolist())), np.exp(yhat))\n",
    "        \n",
    "    print \"Training model - dev data RMSPE=\", rmspe(np.exp(np.array(all_y)), np.exp(np.array(all_yhat)))\n",
    "    print \"Model:\\n\", models[data.iloc[0]['Store']]\n",
    "    print \"Time taken: %.2fs\" % (time.time() - startTime)\n",
    "    \n",
    "    return all_rmspe, models\n",
    "\n",
    "def displayRmspes(rmspes):\n",
    "    sorted_x = sorted(rmspes.items(), key=operator.itemgetter(1))\n",
    "    print \"Best 5:\\n\"\n",
    "    print sorted_x[:5]\n",
    "    print \"\\bWorst 5:\\n\"\n",
    "    print sorted_x[-5:]\n",
    "    \n",
    "def plotResult(models, store):\n",
    "    fig, axis = plt.subplots(figsize=(15,4))\n",
    "    data = train_data[train_data['Store'] == store]\n",
    "    \n",
    "    yhat = models[store].predict(data[x_cols])\n",
    "    axis.plot(data.index.tolist(), np.log(data['Sales']).tolist(), marker='.',\n",
    "         color='b', linestyle='None', alpha=0.5)\n",
    "    axis.plot(data.index.tolist(), yhat.tolist(), marker='.',\n",
    "     color='r', linestyle='None', alpha=0.5)\n",
    "    axis.set_title('Store = ' + str(store))"
   ]
  },
  {
   "cell_type": "code",
   "execution_count": 207,
   "metadata": {
    "collapsed": true
   },
   "outputs": [],
   "source": [
    "storeid = None\n"
   ]
  },
  {
   "cell_type": "code",
   "execution_count": 190,
   "metadata": {
    "collapsed": false
   },
   "outputs": [
    {
     "name": "stdout",
     "output_type": "stream",
     "text": [
      "train_set size: 785727\n",
      "dev_set size: 58611\n",
      "Training model - dev data RMSPE= 0.139194695591\n",
      "Model:\n",
      "LinearRegression(copy_X=True, fit_intercept=True, n_jobs=1, normalize=False)\n"
     ]
    }
   ],
   "source": [
    "rmspes, models = trainModels(2, 'lr', storeid)"
   ]
  },
  {
   "cell_type": "code",
   "execution_count": 236,
   "metadata": {
    "collapsed": false
   },
   "outputs": [
    {
     "name": "stdout",
     "output_type": "stream",
     "text": [
      "train_set size: 785727\n",
      "dev_set size: 58611\n",
      "Training model - dev data RMSPE= 0.127180605012\n",
      "Model:\n",
      "NuSVR(C=1.0, cache_size=900, coef0=0.0, degree=3, gamma='auto', kernel='rbf',\n",
      "   max_iter=-1, nu=0.8, shrinking=True, tol=0.001, verbose=False)\n",
      "Time taken: 116.23s\n"
     ]
    }
   ],
   "source": [
    "rmspes, models = trainModels(2, 'nsvr', store=None, cache_size=900, nu=0.8)"
   ]
  },
  {
   "cell_type": "code",
   "execution_count": 211,
   "metadata": {
    "collapsed": false
   },
   "outputs": [
    {
     "name": "stdout",
     "output_type": "stream",
     "text": [
      "Best 5:\n",
      "\n",
      "[(523, 0.06578223610960772), (974, 0.068385643428867743), (783, 0.068783232814207992), (562, 0.070010690040153839), (245, 0.071539468357337085)]\n",
      "\bWorst 5:\n",
      "\n",
      "[(770, 0.36585454555525665), (782, 0.49641669548566253), (909, 0.57245306249418171), (415, 0.73349673327497988), (292, 0.73781355704635865)]\n"
     ]
    }
   ],
   "source": [
    "displayRmspes(rmspes)"
   ]
  },
  {
   "cell_type": "code",
   "execution_count": 212,
   "metadata": {
    "collapsed": false
   },
   "outputs": [
    {
     "data": {
      "image/png": "[encoded data removed]",
      "text/plain": [
       "<matplotlib.figure.Figure at 0x121a46790>"
      ]
     },
     "metadata": {},
     "output_type": "display_data"
    }
   ],
   "source": [
    "plotResult(models, 523)\n"
   ]
  },
  {
   "cell_type": "code",
   "execution_count": 234,
   "metadata": {
    "collapsed": false
   },
   "outputs": [
    {
     "name": "stdout",
     "output_type": "stream",
     "text": [
      "train_set size: 785727\n",
      "dev_set size: 58611\n",
      "Training model - dev data RMSPE= 0.141892203695\n",
      "Model:\n",
      "RandomForestRegressor(bootstrap=True, criterion='mse', max_depth=None,\n",
      "           max_features='auto', max_leaf_nodes=None, min_samples_leaf=1,\n",
      "           min_samples_split=2, min_weight_fraction_leaf=0.0,\n",
      "           n_estimators=100, n_jobs=-1, oob_score=False, random_state=None,\n",
      "           verbose=0, warm_start=False)\n"
     ]
    }
   ],
   "source": [
    "#rmspes, models = trainModels(2, 'rfr', n_jobs=-1, n_estimators=100)"
   ]
  },
  {
   "cell_type": "code",
   "execution_count": 335,
   "metadata": {
    "collapsed": false
   },
   "outputs": [
    {
     "name": "stdout",
     "output_type": "stream",
     "text": [
      "train_set size: 785727\n",
      "dev_set size: 58611\n",
      "Training model - dev data RMSPE= 0.131524680848\n",
      "Model:\n",
      "KernelRidge(alpha=1, coef0=1, degree=3, gamma=None, kernel='linear',\n",
      "      kernel_params=None)\n"
     ]
    }
   ],
   "source": [
    "#rmspes, models = trainModels(2, 'kr')\n"
   ]
  },
  {
   "cell_type": "markdown",
   "metadata": {},
   "source": [
    "## Make Predictions on Test data ##"
   ]
  },
  {
   "cell_type": "code",
   "execution_count": 226,
   "metadata": {
    "collapsed": true
   },
   "outputs": [],
   "source": [
    "def makePredictions(data):\n",
    "    test_ids = []\n",
    "    test_yhats = []\n",
    "\n",
    "    grouped = data.groupby('Store')\n",
    "\n",
    "    for storeId, group in grouped:\n",
    "        ids = group['Id']\n",
    "        X = group[x_cols]\n",
    "\n",
    "        yhat = np.exp(models[storeId].predict(X))\n",
    "\n",
    "        # Ignore prediction and set Sales to zero hen the store is closed\n",
    "        yhat[np.array(group['Open'] == 0)] = 0\n",
    "        test_yhats += yhat.tolist()\n",
    "        test_ids += ids.tolist()\n",
    "\n",
    "    res = [[i, y] for i, y in zip(test_ids, test_yhats)]\n",
    "    return sorted(res, key=lambda x: x[0])"
   ]
  },
  {
   "cell_type": "code",
   "execution_count": 237,
   "metadata": {
    "collapsed": false
   },
   "outputs": [],
   "source": [
    "result = makePredictions(test_data)"
   ]
  },
  {
   "cell_type": "code",
   "execution_count": 238,
   "metadata": {
    "collapsed": false
   },
   "outputs": [],
   "source": [
    "f = open(\"submission.csv\", \"w\")\n",
    "f.write('\"Id\",\"Sales\"\\n')\n",
    "\n",
    "for r in result:\n",
    "    f.write(\"%d,%d\\n\" % (r[0],int(r[1])))\n",
    "    \n",
    "f.close()\n"
   ]
  },
  {
   "cell_type": "code",
   "execution_count": 239,
   "metadata": {
    "collapsed": false
   },
   "outputs": [
    {
     "name": "stdout",
     "output_type": "stream",
     "text": [
      "<class 'pandas.core.frame.DataFrame'>\n",
      "Int64Index: 41088 entries, 0 to 41087\n",
      "Data columns (total 2 columns):\n",
      "Id       41088 non-null int64\n",
      "Sales    41088 non-null int64\n",
      "dtypes: int64(2)\n",
      "memory usage: 963.0 KB\n"
     ]
    }
   ],
   "source": [
    "# Quick check to make sure the file isn't corrupted.\n",
    "df = pd.read_csv('submission.csv')\n",
    "df.info()\n"
   ]
  },
  {
   "cell_type": "markdown",
   "metadata": {},
   "source": [
    "#### Misc stuff ####"
   ]
  },
  {
   "cell_type": "code",
   "execution_count": 234,
   "metadata": {
    "collapsed": false
   },
   "outputs": [],
   "source": [
    "def littleTest():\n",
    "    # Test prediction using some input generated from training data\n",
    "    random_idx = random.sample(train_df.index.tolist(), 100)\n",
    "\n",
    "    try_df = train_df.loc[random_idx]\n",
    "    try_y = try_df['Sales']\n",
    "    #try_df.drop(['Sales', 'Customers'], axis=1, inplace=True)\n",
    "    try_df[\"Id\"] = range(1, len(try_df) + 1)\n",
    "    try_data = transformData(pd.merge(try_df, store_df, on='Store'))\n",
    "\n",
    "    result = makePredictions(try_data)\n",
    "    try_yhat = np.array([r[1] for r in result])\n",
    "\n",
    "    print rmspe(try_y, try_yhat)"
   ]
  },
  {
   "cell_type": "code",
   "execution_count": 233,
   "metadata": {
    "collapsed": false
   },
   "outputs": [
    {
     "ename": "KeyError",
     "evalue": "'Id'",
     "output_type": "error",
     "traceback": [
      "\u001b[0;31m---------------------------------------------------------------------------\u001b[0m",
      "\u001b[0;31mKeyError\u001b[0m                                  Traceback (most recent call last)",
      "\u001b[0;32m<ipython-input-233-ee1dd9ec7299>\u001b[0m in \u001b[0;36m<module>\u001b[0;34m()\u001b[0m\n\u001b[0;32m----> 1\u001b[0;31m \u001b[0mlittleTest\u001b[0m\u001b[0;34m(\u001b[0m\u001b[0;34m)\u001b[0m\u001b[0;34m\u001b[0m\u001b[0m\n\u001b[0m",
      "\u001b[0;32m<ipython-input-232-93f643ccb003>\u001b[0m in \u001b[0;36mlittleTest\u001b[0;34m()\u001b[0m\n\u001b[1;32m      9\u001b[0m     \u001b[0mtry_data\u001b[0m \u001b[0;34m=\u001b[0m \u001b[0mtransformData\u001b[0m\u001b[0;34m(\u001b[0m\u001b[0mpd\u001b[0m\u001b[0;34m.\u001b[0m\u001b[0mmerge\u001b[0m\u001b[0;34m(\u001b[0m\u001b[0mtry_df\u001b[0m\u001b[0;34m,\u001b[0m \u001b[0mstore_df\u001b[0m\u001b[0;34m,\u001b[0m \u001b[0mon\u001b[0m\u001b[0;34m=\u001b[0m\u001b[0;34m'Store'\u001b[0m\u001b[0;34m)\u001b[0m\u001b[0;34m)\u001b[0m\u001b[0;34m\u001b[0m\u001b[0m\n\u001b[1;32m     10\u001b[0m \u001b[0;34m\u001b[0m\u001b[0m\n\u001b[0;32m---> 11\u001b[0;31m     \u001b[0mresult\u001b[0m \u001b[0;34m=\u001b[0m \u001b[0mmakePredictions\u001b[0m\u001b[0;34m(\u001b[0m\u001b[0mtry_data\u001b[0m\u001b[0;34m)\u001b[0m\u001b[0;34m\u001b[0m\u001b[0m\n\u001b[0m\u001b[1;32m     12\u001b[0m     \u001b[0mtry_yhat\u001b[0m \u001b[0;34m=\u001b[0m \u001b[0mnp\u001b[0m\u001b[0;34m.\u001b[0m\u001b[0marray\u001b[0m\u001b[0;34m(\u001b[0m\u001b[0;34m[\u001b[0m\u001b[0mr\u001b[0m\u001b[0;34m[\u001b[0m\u001b[0;36m1\u001b[0m\u001b[0;34m]\u001b[0m \u001b[0;32mfor\u001b[0m \u001b[0mr\u001b[0m \u001b[0;32min\u001b[0m \u001b[0mresult\u001b[0m\u001b[0;34m]\u001b[0m\u001b[0;34m)\u001b[0m\u001b[0;34m\u001b[0m\u001b[0m\n\u001b[1;32m     13\u001b[0m \u001b[0;34m\u001b[0m\u001b[0m\n",
      "\u001b[0;32m<ipython-input-226-58fd0388d02d>\u001b[0m in \u001b[0;36mmakePredictions\u001b[0;34m(data)\u001b[0m\n\u001b[1;32m      6\u001b[0m \u001b[0;34m\u001b[0m\u001b[0m\n\u001b[1;32m      7\u001b[0m     \u001b[0;32mfor\u001b[0m \u001b[0mstoreId\u001b[0m\u001b[0;34m,\u001b[0m \u001b[0mgroup\u001b[0m \u001b[0;32min\u001b[0m \u001b[0mgrouped\u001b[0m\u001b[0;34m:\u001b[0m\u001b[0;34m\u001b[0m\u001b[0m\n\u001b[0;32m----> 8\u001b[0;31m         \u001b[0mids\u001b[0m \u001b[0;34m=\u001b[0m \u001b[0mgroup\u001b[0m\u001b[0;34m[\u001b[0m\u001b[0;34m'Id'\u001b[0m\u001b[0;34m]\u001b[0m\u001b[0;34m\u001b[0m\u001b[0m\n\u001b[0m\u001b[1;32m      9\u001b[0m         \u001b[0mX\u001b[0m \u001b[0;34m=\u001b[0m \u001b[0mgroup\u001b[0m\u001b[0;34m[\u001b[0m\u001b[0mx_cols\u001b[0m\u001b[0;34m]\u001b[0m\u001b[0;34m\u001b[0m\u001b[0m\n\u001b[1;32m     10\u001b[0m \u001b[0;34m\u001b[0m\u001b[0m\n",
      "\u001b[0;32m/Library/Python/2.7/site-packages/pandas/core/frame.pyc\u001b[0m in \u001b[0;36m__getitem__\u001b[0;34m(self, key)\u001b[0m\n\u001b[1;32m   1967\u001b[0m             \u001b[0;32mreturn\u001b[0m \u001b[0mself\u001b[0m\u001b[0;34m.\u001b[0m\u001b[0m_getitem_multilevel\u001b[0m\u001b[0;34m(\u001b[0m\u001b[0mkey\u001b[0m\u001b[0;34m)\u001b[0m\u001b[0;34m\u001b[0m\u001b[0m\n\u001b[1;32m   1968\u001b[0m         \u001b[0;32melse\u001b[0m\u001b[0;34m:\u001b[0m\u001b[0;34m\u001b[0m\u001b[0m\n\u001b[0;32m-> 1969\u001b[0;31m             \u001b[0;32mreturn\u001b[0m \u001b[0mself\u001b[0m\u001b[0;34m.\u001b[0m\u001b[0m_getitem_column\u001b[0m\u001b[0;34m(\u001b[0m\u001b[0mkey\u001b[0m\u001b[0;34m)\u001b[0m\u001b[0;34m\u001b[0m\u001b[0m\n\u001b[0m\u001b[1;32m   1970\u001b[0m \u001b[0;34m\u001b[0m\u001b[0m\n\u001b[1;32m   1971\u001b[0m     \u001b[0;32mdef\u001b[0m \u001b[0m_getitem_column\u001b[0m\u001b[0;34m(\u001b[0m\u001b[0mself\u001b[0m\u001b[0;34m,\u001b[0m \u001b[0mkey\u001b[0m\u001b[0;34m)\u001b[0m\u001b[0;34m:\u001b[0m\u001b[0;34m\u001b[0m\u001b[0m\n",
      "\u001b[0;32m/Library/Python/2.7/site-packages/pandas/core/frame.pyc\u001b[0m in \u001b[0;36m_getitem_column\u001b[0;34m(self, key)\u001b[0m\n\u001b[1;32m   1974\u001b[0m         \u001b[0;31m# get column\u001b[0m\u001b[0;34m\u001b[0m\u001b[0;34m\u001b[0m\u001b[0m\n\u001b[1;32m   1975\u001b[0m         \u001b[0;32mif\u001b[0m \u001b[0mself\u001b[0m\u001b[0;34m.\u001b[0m\u001b[0mcolumns\u001b[0m\u001b[0;34m.\u001b[0m\u001b[0mis_unique\u001b[0m\u001b[0;34m:\u001b[0m\u001b[0;34m\u001b[0m\u001b[0m\n\u001b[0;32m-> 1976\u001b[0;31m             \u001b[0;32mreturn\u001b[0m \u001b[0mself\u001b[0m\u001b[0;34m.\u001b[0m\u001b[0m_get_item_cache\u001b[0m\u001b[0;34m(\u001b[0m\u001b[0mkey\u001b[0m\u001b[0;34m)\u001b[0m\u001b[0;34m\u001b[0m\u001b[0m\n\u001b[0m\u001b[1;32m   1977\u001b[0m \u001b[0;34m\u001b[0m\u001b[0m\n\u001b[1;32m   1978\u001b[0m         \u001b[0;31m# duplicate columns & possible reduce dimensionality\u001b[0m\u001b[0;34m\u001b[0m\u001b[0;34m\u001b[0m\u001b[0m\n",
      "\u001b[0;32m/Library/Python/2.7/site-packages/pandas/core/generic.pyc\u001b[0m in \u001b[0;36m_get_item_cache\u001b[0;34m(self, item)\u001b[0m\n\u001b[1;32m   1089\u001b[0m         \u001b[0mres\u001b[0m \u001b[0;34m=\u001b[0m \u001b[0mcache\u001b[0m\u001b[0;34m.\u001b[0m\u001b[0mget\u001b[0m\u001b[0;34m(\u001b[0m\u001b[0mitem\u001b[0m\u001b[0;34m)\u001b[0m\u001b[0;34m\u001b[0m\u001b[0m\n\u001b[1;32m   1090\u001b[0m         \u001b[0;32mif\u001b[0m \u001b[0mres\u001b[0m \u001b[0;32mis\u001b[0m \u001b[0mNone\u001b[0m\u001b[0;34m:\u001b[0m\u001b[0;34m\u001b[0m\u001b[0m\n\u001b[0;32m-> 1091\u001b[0;31m             \u001b[0mvalues\u001b[0m \u001b[0;34m=\u001b[0m \u001b[0mself\u001b[0m\u001b[0;34m.\u001b[0m\u001b[0m_data\u001b[0m\u001b[0;34m.\u001b[0m\u001b[0mget\u001b[0m\u001b[0;34m(\u001b[0m\u001b[0mitem\u001b[0m\u001b[0;34m)\u001b[0m\u001b[0;34m\u001b[0m\u001b[0m\n\u001b[0m\u001b[1;32m   1092\u001b[0m             \u001b[0mres\u001b[0m \u001b[0;34m=\u001b[0m \u001b[0mself\u001b[0m\u001b[0;34m.\u001b[0m\u001b[0m_box_item_values\u001b[0m\u001b[0;34m(\u001b[0m\u001b[0mitem\u001b[0m\u001b[0;34m,\u001b[0m \u001b[0mvalues\u001b[0m\u001b[0;34m)\u001b[0m\u001b[0;34m\u001b[0m\u001b[0m\n\u001b[1;32m   1093\u001b[0m             \u001b[0mcache\u001b[0m\u001b[0;34m[\u001b[0m\u001b[0mitem\u001b[0m\u001b[0;34m]\u001b[0m \u001b[0;34m=\u001b[0m \u001b[0mres\u001b[0m\u001b[0;34m\u001b[0m\u001b[0m\n",
      "\u001b[0;32m/Library/Python/2.7/site-packages/pandas/core/internals.pyc\u001b[0m in \u001b[0;36mget\u001b[0;34m(self, item, fastpath)\u001b[0m\n\u001b[1;32m   3209\u001b[0m \u001b[0;34m\u001b[0m\u001b[0m\n\u001b[1;32m   3210\u001b[0m             \u001b[0;32mif\u001b[0m \u001b[0;32mnot\u001b[0m \u001b[0misnull\u001b[0m\u001b[0;34m(\u001b[0m\u001b[0mitem\u001b[0m\u001b[0;34m)\u001b[0m\u001b[0;34m:\u001b[0m\u001b[0;34m\u001b[0m\u001b[0m\n\u001b[0;32m-> 3211\u001b[0;31m                 \u001b[0mloc\u001b[0m \u001b[0;34m=\u001b[0m \u001b[0mself\u001b[0m\u001b[0;34m.\u001b[0m\u001b[0mitems\u001b[0m\u001b[0;34m.\u001b[0m\u001b[0mget_loc\u001b[0m\u001b[0;34m(\u001b[0m\u001b[0mitem\u001b[0m\u001b[0;34m)\u001b[0m\u001b[0;34m\u001b[0m\u001b[0m\n\u001b[0m\u001b[1;32m   3212\u001b[0m             \u001b[0;32melse\u001b[0m\u001b[0;34m:\u001b[0m\u001b[0;34m\u001b[0m\u001b[0m\n\u001b[1;32m   3213\u001b[0m                 \u001b[0mindexer\u001b[0m \u001b[0;34m=\u001b[0m \u001b[0mnp\u001b[0m\u001b[0;34m.\u001b[0m\u001b[0marange\u001b[0m\u001b[0;34m(\u001b[0m\u001b[0mlen\u001b[0m\u001b[0;34m(\u001b[0m\u001b[0mself\u001b[0m\u001b[0;34m.\u001b[0m\u001b[0mitems\u001b[0m\u001b[0;34m)\u001b[0m\u001b[0;34m)\u001b[0m\u001b[0;34m[\u001b[0m\u001b[0misnull\u001b[0m\u001b[0;34m(\u001b[0m\u001b[0mself\u001b[0m\u001b[0;34m.\u001b[0m\u001b[0mitems\u001b[0m\u001b[0;34m)\u001b[0m\u001b[0;34m]\u001b[0m\u001b[0;34m\u001b[0m\u001b[0m\n",
      "\u001b[0;32m/Library/Python/2.7/site-packages/pandas/core/index.pyc\u001b[0m in \u001b[0;36mget_loc\u001b[0;34m(self, key, method, tolerance)\u001b[0m\n\u001b[1;32m   1757\u001b[0m                                  'backfill or nearest lookups')\n\u001b[1;32m   1758\u001b[0m             \u001b[0mkey\u001b[0m \u001b[0;34m=\u001b[0m \u001b[0m_values_from_object\u001b[0m\u001b[0;34m(\u001b[0m\u001b[0mkey\u001b[0m\u001b[0;34m)\u001b[0m\u001b[0;34m\u001b[0m\u001b[0m\n\u001b[0;32m-> 1759\u001b[0;31m             \u001b[0;32mreturn\u001b[0m \u001b[0mself\u001b[0m\u001b[0;34m.\u001b[0m\u001b[0m_engine\u001b[0m\u001b[0;34m.\u001b[0m\u001b[0mget_loc\u001b[0m\u001b[0;34m(\u001b[0m\u001b[0mkey\u001b[0m\u001b[0;34m)\u001b[0m\u001b[0;34m\u001b[0m\u001b[0m\n\u001b[0m\u001b[1;32m   1760\u001b[0m \u001b[0;34m\u001b[0m\u001b[0m\n\u001b[1;32m   1761\u001b[0m         indexer = self.get_indexer([key], method=method,\n",
      "\u001b[0;32mpandas/index.pyx\u001b[0m in \u001b[0;36mpandas.index.IndexEngine.get_loc (pandas/index.c:3979)\u001b[0;34m()\u001b[0m\n",
      "\u001b[0;32mpandas/index.pyx\u001b[0m in \u001b[0;36mpandas.index.IndexEngine.get_loc (pandas/index.c:3843)\u001b[0;34m()\u001b[0m\n",
      "\u001b[0;32mpandas/hashtable.pyx\u001b[0m in \u001b[0;36mpandas.hashtable.PyObjectHashTable.get_item (pandas/hashtable.c:12265)\u001b[0;34m()\u001b[0m\n",
      "\u001b[0;32mpandas/hashtable.pyx\u001b[0m in \u001b[0;36mpandas.hashtable.PyObjectHashTable.get_item (pandas/hashtable.c:12216)\u001b[0;34m()\u001b[0m\n",
      "\u001b[0;31mKeyError\u001b[0m: 'Id'"
     ]
    }
   ],
   "source": [
    "littleTest()"
   ]
  },
  {
   "cell_type": "code",
   "execution_count": null,
   "metadata": {
    "collapsed": true
   },
   "outputs": [],
   "source": []
  }
 ],
 "metadata": {
  "kernelspec": {
   "display_name": "Python 2",
   "language": "python",
   "name": "python2"
  },
  "language_info": {
   "codemirror_mode": {
    "name": "ipython",
    "version": 2
   },
   "file_extension": ".py",
   "mimetype": "text/x-python",
   "name": "python",
   "nbconvert_exporter": "python",
   "pygments_lexer": "ipython2",
   "version": "2.7.10"
  }
 },
 "nbformat": 4,
 "nbformat_minor": 0
}
